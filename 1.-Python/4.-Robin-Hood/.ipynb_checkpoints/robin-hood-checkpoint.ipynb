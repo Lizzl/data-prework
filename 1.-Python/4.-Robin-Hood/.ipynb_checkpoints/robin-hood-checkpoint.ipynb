{
 "cells": [
  {
   "cell_type": "markdown",
   "metadata": {},
   "source": [
    "<img src=\"https://bit.ly/2VnXWr2\" width=\"100\" align=\"left\"/>"
   ]
  },
  {
   "cell_type": "markdown",
   "metadata": {},
   "source": [
    "# Robin Hood\n",
    "Robin Hood has entered a competition to win the archery contest in Sherwood. With his bow and arrows, he needs to shoot on a target and try to hit as close as possible to the center.\n",
    "\n",
    "![](images/arrows.jpg)\n",
    "\n",
    "## Context\n",
    "In this challenge, the landing position of arrows shot by archers in the competition will be represented using 2-dimensional coordinates. \n",
    "\n",
    "In the 2-dimensional space, a point can be defined by a pair of values that correspond to the horizontal coordinate (x) and the vertical coordinate (y). For example, in our case, an arrow that hits the center of the archery target will land in position (0, 0) on the coordinate axes. \n",
    "\n",
    "The space can be divided into 4 zones (quadrants): Q1, Q2, Q3, Q4. If a point is in Q1, both its x coordinate and y coordinate are positive. Any point with a null x or y coordinate is considered to not belong to any quadrant. \n",
    "\n",
    "If you want to know more about the cartesian coordinate system, you can check this [link](https://en.wikipedia.org/wiki/Cartesian_coordinate_system). \n",
    "\n",
    "## Tools\n",
    "You don't necessarily need to use all the tools. Maybe you opt to use some of them or completely different ones, they are given to help you shape the exercise. Programming exercises can be solved in many different ways.\n",
    "* Data structures: **lists, sets, tuples**\n",
    "* Conditional statements: **if-elif-else**\n",
    "* Loop: **while/for**\n",
    "* Minimum (optional sorting)\n",
    "\n",
    "## Tasks\n",
    "Robin Hood has hit the following points:"
   ]
  },
  {
   "cell_type": "code",
   "execution_count": 1,
   "metadata": {},
   "outputs": [],
   "source": [
    "points = [(4, 5), (-0, 2), (4, 7), (1, -3), (3, -2), (4, 5), (3, 2), (5, 7), (-5, 7), (2, 2), (-4, 5), (0, -2),\n",
    "          (-4, 7), (-1, 3), (-3, 2), (-4, -5), (-3, 2), (5, 7), (5, 7), (2, 2), (9, 9), (-8, -9)]"
   ]
  },
  {
   "cell_type": "markdown",
   "metadata": {},
   "source": [
    "#### 1. Robin Hood is famous for hitting an arrow with another arrow. Find the coordinates of the points where an arrow hits another arrow."
   ]
  },
  {
   "cell_type": "code",
   "execution_count": 2,
   "metadata": {},
   "outputs": [
    {
     "name": "stdout",
     "output_type": "stream",
     "text": [
      "Robin Hood hit an arrow with another arrow at these points: [(-3, 2), (4, 5), (5, 7), (2, 2)]\n"
     ]
    }
   ],
   "source": [
    "arrow_hits = list(set([ele for ele in points\n",
    "            if points.count(ele) > 1])) \n",
    "\n",
    "print(\"Robin Hood hit an arrow with another arrow at these points:\", str(arrow_hits))\n"
   ]
  },
  {
   "cell_type": "markdown",
   "metadata": {},
   "source": [
    "#### 2. Calculate how many arrows have fallen in each quadrant. \n",
    "**Note**: the arrows that fall in the axis (x=0 or y=0) don't belong to any quadrant."
   ]
  },
  {
   "cell_type": "code",
   "execution_count": 59,
   "metadata": {},
   "outputs": [
    {
     "name": "stdout",
     "output_type": "stream",
     "text": [
      "[4, 0, 4, 1, 3, 4, 3, 5, -5, 2, -4, 0, -4, -1, -3, -4, -3, 5, 5, 2, 9, -8]\n",
      "[5, 2, 7, -3, -2, 5, 2, 7, 7, 2, 5, -2, 7, 3, 2, -5, 2, 7, 7, 2, 9, -9]\n",
      "10 arrows have fallen into quadrant 1\n",
      "6 arrows have fallen into quadrant 2\n",
      "2 arrows have fallen into quadrant 3\n",
      "2 arrows have fallen into quadrant 4\n"
     ]
    }
   ],
   "source": [
    "quadrant1 = 0\n",
    "quadrant2 = 0\n",
    "quadrant3 = 0\n",
    "quadrant4 = 0\n",
    "on_axis = 0\n",
    "\n",
    "#Unpack Tuples into lists\n",
    "for t in points:\n",
    "    x_coordinate = [t[0] for t in points]\n",
    "    y_coordinate = [t[1] for t in points]\n",
    "    \n",
    "print(x_coordinate)\n",
    "print(y_coordinate)\n",
    "\n",
    "#Calculate quadrants\n",
    "for x, y in zip(x_coordinate, y_coordinate):\n",
    "    if x > 0 and y > 0:\n",
    "        quadrant1 = quadrant1 + 1\n",
    "    elif x < 0 and y > 0:\n",
    "        quadrant2 = quadrant2 + 1\n",
    "    elif x < 0 and y < 0:\n",
    "        quadrant3 = quadrant3 + 1\n",
    "    elif x > 0 and y < 0:\n",
    "        quadrant4 = quadrant4 + 1\n",
    "    else:\n",
    "        on_axis = on_axis + 1\n",
    "\n",
    "print(str(quadrant1), \"arrows have fallen into quadrant 1\")\n",
    "print(str(quadrant2), \"arrows have fallen into quadrant 2\")\n",
    "print(str(quadrant3), \"arrows have fallen into quadrant 3\")\n",
    "print(str(quadrant4), \"arrows have fallen into quadrant 4\")"
   ]
  },
  {
   "cell_type": "markdown",
   "metadata": {},
   "source": [
    "#### 3. Find the point closest to the center. Calculate its distance to the center. \n",
    "Take into account that there might be more than one point at the minimum distance to the center.\n",
    "\n",
    "**Hint**: Use the Euclidean distance. You can find more information about it [here](https://en.wikipedia.org/wiki/Euclidean_distance).  \n",
    "**Hint**: Defining a function that calculates the distance to the center can help."
   ]
  },
  {
   "cell_type": "code",
   "execution_count": 60,
   "metadata": {},
   "outputs": [
    {
     "name": "stdout",
     "output_type": "stream",
     "text": [
      "The minimum distance is 2.0 . The points closest to the center are [(0, 2), (0, -2)] .\n"
     ]
    }
   ],
   "source": [
    "import math\n",
    "\n",
    "x2 = 0\n",
    "y2 = 0\n",
    "eucl_distance = []\n",
    "closest_points = []\n",
    "\n",
    "#Unpack tuple and store in new list\n",
    "for t in points:\n",
    "    x_coordinate = [t[0] for t in points]\n",
    "    y_coordinate = [t[1] for t in points]\n",
    "    \n",
    "#Calculate euclian distance \n",
    "for x, y in zip(x_coordinate, y_coordinate):\n",
    "    x1 = x\n",
    "    y1 = y\n",
    "    dist = math.sqrt((x2-x1)**2 + (y2-y1)**2)\n",
    "    eucl_distance.append(dist)\n",
    "\n",
    "    #Calculate minimum distance\n",
    "min_distance = min(eucl_distance)\n",
    "\n",
    "#Create dictionary out of points & eucl_distance lists\n",
    "zip_dist = zip(points, eucl_distance)\n",
    "dict_distance = dict(zip_dist)\n",
    "\n",
    "#Calculate closes points to the center using dictionary\n",
    "min_val = min(dict_distance.values())\n",
    "closest_points = [p for p, d in dict_distance.items() if d == min_val]\n",
    "print(\"The minimum distance is\", str(min_distance), \". The points closest to the center are\", closest_points, \".\")\n"
   ]
  },
  {
   "cell_type": "markdown",
   "metadata": {},
   "source": [
    "#### 4. If the archery target has a radius of 9, calculate the number of arrows that won't hit the target. \n",
    "**Hint**: Use the function created in step 3. "
   ]
  },
  {
   "cell_type": "code",
   "execution_count": 61,
   "metadata": {},
   "outputs": [
    {
     "name": "stdout",
     "output_type": "stream",
     "text": [
      "2  arrows won't hit the target.\n"
     ]
    }
   ],
   "source": [
    "no_target = [] \n",
    "no_target = [p for p, d in dict_distance.items() if d >= 9]\n",
    "\n",
    "number_arrows = len(no_target)           \n",
    "\n",
    "print(str(number_arrows), \" arrows won't hit the target.\")"
   ]
  },
  {
   "cell_type": "code",
   "execution_count": null,
   "metadata": {},
   "outputs": [],
   "source": []
  }
 ],
 "metadata": {
  "kernelspec": {
   "display_name": "Python 3",
   "language": "python",
   "name": "python3"
  },
  "language_info": {
   "codemirror_mode": {
    "name": "ipython",
    "version": 3
   },
   "file_extension": ".py",
   "mimetype": "text/x-python",
   "name": "python",
   "nbconvert_exporter": "python",
   "pygments_lexer": "ipython3",
   "version": "3.8.5"
  }
 },
 "nbformat": 4,
 "nbformat_minor": 2
}
