{
 "cells": [
  {
   "cell_type": "markdown",
   "metadata": {},
   "source": [
    "<img src=\"https://bit.ly/2VnXWr2\" width=\"100\" align=\"left\">"
   ]
  },
  {
   "cell_type": "markdown",
   "metadata": {},
   "source": [
    "# Temperature Sensor\n",
    "\n",
    "There is a temperature sensor in the processor of your company's server. The company wants to analyze the data provided by the sensor to decide if they should change the cooling system for a better one. As changing the cooling system is expensive and you are an excellent data analyst, you can't make a decision without basis.\n",
    "\n",
    "## Tools\n",
    "You don't necessarily need to use all the tools. Maybe you opt to use some of them or completely different ones, they are given to help you shape the exercise. Programming exercises can be solved in many different ways.\n",
    "1. Data structures: **lists**\n",
    "2. Loops: **list comprehension**\n",
    "3. Functions: **min, max, print, len**\n",
    "4. Conditional statements: **if-elif-else**\n",
    "\n",
    "## Tasks\n",
    "The temperatures measured throughout the 24 hours of a day are:"
   ]
  },
  {
   "cell_type": "code",
   "execution_count": 1,
   "metadata": {},
   "outputs": [],
   "source": [
    "temperatures_C = [33, 66, 65, 0, 59, 60, 62, 64, 70, 76, 80, 81, 80, 83, 90, 79, 61, 53, 50, 49, 53, 48, 45, 39]"
   ]
  },
  {
   "cell_type": "markdown",
   "metadata": {},
   "source": [
    "The first element of the list is the temperature at 12am, the second element is the temperature at 1am, and so on. \n",
    "\n",
    "The company has decided that if one of the following events occurs, then the cooling system needs to be replaced for a new one to avoid damaging the processor.\n",
    "* More than 4 temperatures are greater than or equal to 70ºC.\n",
    "* Any temperature is above 80ºC.\n",
    "* The average temperature exceeds 65ºC.\n",
    "\n",
    "Follow the steps so that you can make the decision.\n",
    "\n",
    "#### 1. Find the minimum temperature of the day and store it in a variable."
   ]
  },
  {
   "cell_type": "code",
   "execution_count": 2,
   "metadata": {},
   "outputs": [
    {
     "name": "stdout",
     "output_type": "stream",
     "text": [
      "0\n"
     ]
    }
   ],
   "source": [
    "min_temperature =  min(temperatures_C)\n",
    "print(min_temperature)"
   ]
  },
  {
   "cell_type": "markdown",
   "metadata": {},
   "source": [
    "#### 2. Find the maximum temperature of the day and store it in a variable."
   ]
  },
  {
   "cell_type": "code",
   "execution_count": 3,
   "metadata": {},
   "outputs": [
    {
     "name": "stdout",
     "output_type": "stream",
     "text": [
      "90\n"
     ]
    }
   ],
   "source": [
    "max_temperature =  max(temperatures_C)\n",
    "print(max_temperature)"
   ]
  },
  {
   "cell_type": "markdown",
   "metadata": {},
   "source": [
    "#### 3. Create a list with the temperatures that are greater than or equal to 70ºC. Store it in a variable."
   ]
  },
  {
   "cell_type": "code",
   "execution_count": 4,
   "metadata": {},
   "outputs": [
    {
     "name": "stdout",
     "output_type": "stream",
     "text": [
      "8 temperatures are greater than or equal to 70ºC.\n"
     ]
    }
   ],
   "source": [
    "greater_seventy = []\n",
    "\n",
    "#Create a list with the temperatures that are greater than or equal to 70ºC\n",
    "for t in temperatures_C:\n",
    "    if t >= 70:\n",
    "      greater_seventy.append(t)  \n",
    "\n",
    "#Calculate number of temperatures that exceed 70ºC\n",
    "high_temp = len(greater_seventy)\n",
    "print(high_temp,\"temperatures are greater than or equal to 70ºC.\")"
   ]
  },
  {
   "cell_type": "markdown",
   "metadata": {},
   "source": [
    "#### 4. Find the average temperature of the day and store it in a variable."
   ]
  },
  {
   "cell_type": "code",
   "execution_count": 5,
   "metadata": {},
   "outputs": [
    {
     "name": "stdout",
     "output_type": "stream",
     "text": [
      "The average temperature is 60.25\n"
     ]
    }
   ],
   "source": [
    "average_temp = sum(temperatures_C)/len(temperatures_C)\n",
    "print(\"The average temperature is\", average_temp)"
   ]
  },
  {
   "cell_type": "markdown",
   "metadata": {},
   "source": [
    "#### 5. Imagine that there was a sensor failure at 3am and the data for that specific hour was not recorded. How would you estimate the missing value? Replace the current value of the list at 3am for an estimation. "
   ]
  },
  {
   "cell_type": "code",
   "execution_count": 6,
   "metadata": {},
   "outputs": [
    {
     "name": "stdout",
     "output_type": "stream",
     "text": [
      "The Median is 62.0\n",
      "[33, 66, 65, 62, 59, 60, 62, 64, 70, 76, 80, 81, 80, 83, 90, 79, 61, 53, 50, 49, 53, 48, 45, 39]\n"
     ]
    }
   ],
   "source": [
    "#Calculate missing value using the median for the value before and after\n",
    "\n",
    "import statistics\n",
    "list_median = []\n",
    "\n",
    "#Calculate previous and subsequent value and store in new list\n",
    "previous_value = temperatures_C[2]\n",
    "list_median.append(previous_value)\n",
    "\n",
    "subsequent_value = temperatures_C[4]\n",
    "list_median.append(subsequent_value)\n",
    "\n",
    "#Calculate median\n",
    "median = statistics.median(list_median)\n",
    "print(\"The Median is\", median)\n",
    "\n",
    "#Replace current value with median\n",
    "temperatures_C[3] = int(median)\n",
    "print(temperatures_C)\n",
    "\n"
   ]
  },
  {
   "cell_type": "markdown",
   "metadata": {},
   "source": [
    "#### 6. Bonus: the maintenance staff is from the United States and does not understand the international metric system. Help them by converting the temperatures from Celsius to Fahrenheit.\n",
    "To know more about temperature conversion check this [link](https://en.wikipedia.org/wiki/Conversion_of_units_of_temperature).\n",
    "\n",
    "**Formula**: \n",
    "\n",
    "$F = 1.8 * C + 32$"
   ]
  },
  {
   "cell_type": "code",
   "execution_count": 7,
   "metadata": {},
   "outputs": [
    {
     "name": "stdout",
     "output_type": "stream",
     "text": [
      "[91.4, 150.8, 149.0, 143.6, 138.2, 140.0, 143.6, 147.2, 158.0, 168.8, 176.0, 177.8, 176.0, 181.4, 194.0, 174.2, 141.8, 127.4, 122.0, 120.2, 127.4, 118.4, 113.0, 102.2]\n",
      "Minimum temperature in Fahrenheit is 91.4\n",
      "Maximum temperature in Fahrenheit is 194.0\n",
      "The average temperature in Fahrenheit is 145.1\n"
     ]
    }
   ],
   "source": [
    "temperatures_F = []\n",
    "\n",
    "#Convert temperatures to Fahrenheit\n",
    "for t in temperatures_C:\n",
    "    f = 1.8* t +32\n",
    "    temperatures_F.append(round(f,2))\n",
    "    \n",
    "print(temperatures_F)\n",
    "\n",
    "#Calculate minimal & maximal & average temperature in Fahrenheit\n",
    "min_temperature_F =  min(temperatures_F)\n",
    "print(\"Minimum temperature in Fahrenheit is\", min_temperature_F)\n",
    "\n",
    "max_temperature_F =  max(temperatures_F)\n",
    "print(\"Maximum temperature in Fahrenheit is\", max_temperature_F)\n",
    "\n",
    "average_temp_F = sum(temperatures_F)/len(temperatures_F)\n",
    "print(\"The average temperature in Fahrenheit is\", average_temp_F)"
   ]
  },
  {
   "cell_type": "markdown",
   "metadata": {},
   "source": [
    "#### 7. Make a decision!\n",
    "Now it's time to make a decision taking into account what you have seen until now. \n",
    "\n",
    "Remember that if one of the following events occurs, then the cooling system needs to be replaced for a new one to avoid damaging the processor.\n",
    "* More than 4 temperatures are greater than or equal to 70ºC.\n",
    "* Any temperature is above 80ºC.\n",
    "* The average temperature exceeds 65ºC.\n",
    "\n",
    "#### To make your decision, check if any of the three conditions above is met. You might need to use some of the variables you created in steps 1 to 6. Print a message to show if the cooling system needs to be changed or not."
   ]
  },
  {
   "cell_type": "code",
   "execution_count": 8,
   "metadata": {},
   "outputs": [
    {
     "name": "stdout",
     "output_type": "stream",
     "text": [
      "Cooling system needs to be changed.\n"
     ]
    }
   ],
   "source": [
    "#Check if conditions for replacing cooling system are met\n",
    "\n",
    "if high_temp > 4:\n",
    "    print(\"Cooling system needs to be changed.\")\n",
    "elif average_temp > 65:\n",
    "    print(\"Cooling system needs to be changed.\")\n",
    "elif temperatures_C[i] > 80:\n",
    "        print(\"Cooling system needs to be changed.\")\n",
    "else:\n",
    "    print(\"Cooling system does not need to be changed.\")\n",
    "    "
   ]
  },
  {
   "cell_type": "markdown",
   "metadata": {},
   "source": [
    "## Bonus\n",
    "\n",
    "The company has decided that the decision you made is not valid. They want you to analyze the data again but this time, the conditions that need to be met in order to change the cooling system are different.\n",
    "\n",
    "This time, if one of the following events occurs, then the cooling system needs to be replaced:\n",
    "* The temperature is greater than 70ºC during more than 4 consecutive hours.\n",
    "* Any temperature is above 80ºC.\n",
    "* The average temperature exceeds 65ºC.\n",
    "\n",
    "Follow the steps so that you can make the decision.\n",
    "\n",
    "#### 1. Create a list with the hours where the temperature is greater than 70ºC. Store it in a variable."
   ]
  },
  {
   "cell_type": "code",
   "execution_count": 9,
   "metadata": {},
   "outputs": [
    {
     "name": "stdout",
     "output_type": "stream",
     "text": [
      "{0: 33, 1: 66, 2: 65, 3: 62, 4: 59, 5: 60, 6: 62, 7: 64, 8: 70, 9: 76, 10: 80, 11: 81, 12: 80, 13: 83, 14: 90, 15: 79, 16: 61, 17: 53, 18: 50, 19: 49, 20: 53, 21: 48, 22: 45, 23: 39}\n",
      "[9, 10, 11, 12, 13, 14, 15]\n"
     ]
    }
   ],
   "source": [
    "#Create list of hours and dictionary with hours as keys and temperatures as values\n",
    "hours = [0,1,2,3,4,5,6,7,8,9,10,11,12,13,14,15,16,17,18,19,20,21,22,23,24]\n",
    "\n",
    "#Create dictionary of both list hours & list temperatures_C\n",
    "zip_temp = zip(hours, temperatures_C)\n",
    "dict_temps = dict(zip_temp)\n",
    "print(dict_temps)\n",
    "\n",
    "#Unpack hours, where temperatures are above70\n",
    "hours_hightemp = [h for h, t in dict_temps.items() if t > 70]\n",
    "print(hours_hightemp)\n"
   ]
  },
  {
   "cell_type": "markdown",
   "metadata": {},
   "source": [
    "#### 2. Check if the list you created in step 1 has more than 4 consecutive hours. "
   ]
  },
  {
   "cell_type": "code",
   "execution_count": 10,
   "metadata": {},
   "outputs": [
    {
     "name": "stdout",
     "output_type": "stream",
     "text": [
      "Temperature exceeds 70 degrees in 6 consecutive hours.\n"
     ]
    }
   ],
   "source": [
    "count = 0\n",
    "\n",
    "#Check for 4 consecutive hours in list hours_hightemp\n",
    "for i in range(len(hours_hightemp) - 1):\n",
    "        # Check if the next number is consecutive\n",
    "        if hours_hightemp[i] + 1 == hours_hightemp[i+1]:\n",
    "            count += 1\n",
    "            \n",
    "        else:\n",
    "            # If it is not restart counting\n",
    "            count = 0\n",
    "            \n",
    "print(\"Temperature exceeds 70 degrees in\", count, \"consecutive hours.\")\n",
    "\n",
    "\n",
    "   "
   ]
  },
  {
   "cell_type": "markdown",
   "metadata": {},
   "source": [
    "#### 3. Make the decision!\n",
    "To make your decision, check if any of the three conditions is met. Print a message to show if the cooling system needs to be changed or not."
   ]
  },
  {
   "cell_type": "code",
   "execution_count": 11,
   "metadata": {},
   "outputs": [
    {
     "name": "stdout",
     "output_type": "stream",
     "text": [
      "The cooling system needs to be replaced\n"
     ]
    }
   ],
   "source": [
    "if count > 4:\n",
    "    print(\"The cooling system needs to be replaced\")\n",
    "elif average_temp > 65:\n",
    "    print(\"Cooling system needs to be changed.\")\n",
    "elif temperatures_C[i] > 80:\n",
    "        print(\"Cooling system needs to be changed.\")\n",
    "else:\n",
    "    print(\"Cooling system does not need to be changed.\")"
   ]
  },
  {
   "cell_type": "markdown",
   "metadata": {},
   "source": [
    "#### 4. Find the average value of the temperature lists (ºC and ºF). What is the relation between both average values?"
   ]
  },
  {
   "cell_type": "code",
   "execution_count": 12,
   "metadata": {},
   "outputs": [
    {
     "name": "stdout",
     "output_type": "stream",
     "text": [
      "The average temperature in Celcius is 62.833333333333336\n",
      "The average temperature in Fahrenheit is 145.1\n",
      "False\n"
     ]
    }
   ],
   "source": [
    "average_temp = sum(temperatures_C)/len(temperatures_C)\n",
    "\n",
    "print(\"The average temperature in Celcius is\", average_temp)\n",
    "\n",
    "average_temp_F = sum(temperatures_F)/len(temperatures_F)\n",
    "print(\"The average temperature in Fahrenheit is\", average_temp_F)\n",
    "\n",
    "#following statement should be True (it is true when I calculate it on my calculator)\n",
    "print(int(average_temp_F) == 1.8*int(average_temp) + 32)"
   ]
  },
  {
   "cell_type": "markdown",
   "metadata": {},
   "source": [
    "#### 5. Find the standard deviation of the temperature lists (ºC and ºF). What is the relation between both standard deviations?"
   ]
  },
  {
   "cell_type": "code",
   "execution_count": 15,
   "metadata": {},
   "outputs": [
    {
     "name": "stdout",
     "output_type": "stream",
     "text": [
      "14.633485192833897\n",
      "26.34027334710101\n"
     ]
    }
   ],
   "source": [
    "import statistics as st\n",
    "\n",
    "mean_tempC = average_temp\n",
    "n_tempC = int(len(temperatures_C))\n",
    "\n",
    "stdev_tempC = st.pstdev(temperatures_C)\n",
    "\n",
    "\n",
    "mean_tempF = average_temp_F\n",
    "n_tempF = int(len(temperatures_F))\n",
    "\n",
    "stdev_tempF = st.pstdev(temperatures_F)\n",
    "\n",
    "print(stdev_tempC)\n",
    "print(stdev_tempF)\n",
    "\n",
    "#following statement should be True "
   ]
  },
  {
   "cell_type": "code",
   "execution_count": null,
   "metadata": {},
   "outputs": [],
   "source": []
  }
 ],
 "metadata": {
  "kernelspec": {
   "display_name": "Python 3",
   "language": "python",
   "name": "python3"
  },
  "language_info": {
   "codemirror_mode": {
    "name": "ipython",
    "version": 3
   },
   "file_extension": ".py",
   "mimetype": "text/x-python",
   "name": "python",
   "nbconvert_exporter": "python",
   "pygments_lexer": "ipython3",
   "version": "3.8.5"
  }
 },
 "nbformat": 4,
 "nbformat_minor": 2
}
