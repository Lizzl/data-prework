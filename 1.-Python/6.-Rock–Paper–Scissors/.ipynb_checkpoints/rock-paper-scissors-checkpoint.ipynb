{
 "cells": [
  {
   "cell_type": "markdown",
   "metadata": {},
   "source": [
    "<img src=\"https://bit.ly/2VnXWr2\" width=\"100\" align=\"left\">"
   ]
  },
  {
   "cell_type": "markdown",
   "metadata": {},
   "source": [
    "# Rock, Paper & Scissors\n",
    "\n",
    "Let's play the famous game against our computer. You can check the rules [here](https://en.wikipedia.org/wiki/Rock%E2%80%93paper%E2%80%93scissors). \n",
    "\n",
    "## Task\n",
    "Create a program that imitates the playability of the well known game of rock, paper, scissors. Follow the guidelines provided.\n",
    "\n",
    "## Tools\n",
    "1. Loop: **for/while**\n",
    "2. Functions: **input(), print()...**\n",
    "3. Conditional statements: **if, elif, else**\n",
    "4. Definition of functions. Modular programming\n",
    "5. Import modules\n",
    "\n",
    "**To solve this challenge, the use of functions is recommended.**\n",
    "\n",
    "#### 1. Import the choice function of the random module."
   ]
  },
  {
   "cell_type": "code",
   "execution_count": 2,
   "metadata": {},
   "outputs": [],
   "source": [
    "import random"
   ]
  },
  {
   "cell_type": "markdown",
   "metadata": {},
   "source": [
    "#### 2. Create a list that includes the 3 possible gesture options of the game: 'rock', 'paper' or 'scissors'. Store the list in a variable called `gestures`."
   ]
  },
  {
   "cell_type": "code",
   "execution_count": 3,
   "metadata": {},
   "outputs": [],
   "source": [
    "gestures = ['rock','paper','scissors']"
   ]
  },
  {
   "cell_type": "markdown",
   "metadata": {},
   "source": [
    "#### 3. Create a variable called `n_rounds` to store the maximum number of rounds to play in a game. \n",
    "Remember that the number of rounds must be odd: 1, 3, 5, ..."
   ]
  },
  {
   "cell_type": "code",
   "execution_count": 4,
   "metadata": {
    "scrolled": true
   },
   "outputs": [
    {
     "name": "stdout",
     "output_type": "stream",
     "text": [
      "[1, 3, 5, 7, 9, 11, 13]\n"
     ]
    }
   ],
   "source": [
    "n_rounds = [] \n",
    "for x in (range(0, 15, 1)):\n",
    "   if x % 2 != 0:        \n",
    "      n_rounds.append(x)\n",
    "    \n",
    "print(n_rounds)"
   ]
  },
  {
   "cell_type": "markdown",
   "metadata": {},
   "source": [
    "#### 4. Create a variable called `rounds_to_win` to store the number of rounds that a player must win to win the game.\n",
    "**Hint**: the value stored in `rounds_to_win` depends on the value of `n_rounds`. "
   ]
  },
  {
   "cell_type": "code",
   "execution_count": 5,
   "metadata": {},
   "outputs": [],
   "source": [
    "rounds_to_win = 0\n",
    "if rounds_to_win in n_rounds:\n",
    "    print(\"Player won\")"
   ]
  },
  {
   "cell_type": "markdown",
   "metadata": {},
   "source": [
    "#### 5. Create two variables to store the number of rounds that the computer and the player have won. Call these variables `cpu_score` and `player_score`."
   ]
  },
  {
   "cell_type": "code",
   "execution_count": 6,
   "metadata": {},
   "outputs": [],
   "source": [
    "cpu_score = 0\n",
    "player_score = 0"
   ]
  },
  {
   "cell_type": "markdown",
   "metadata": {},
   "source": [
    "#### 6. Define a function that randomly returns one of the 3 gesture options.\n",
    "You will use this function to simulate the gesture choice of the computer. "
   ]
  },
  {
   "cell_type": "code",
   "execution_count": 7,
   "metadata": {},
   "outputs": [
    {
     "data": {
      "text/plain": [
       "'paper'"
      ]
     },
     "execution_count": 7,
     "metadata": {},
     "output_type": "execute_result"
    }
   ],
   "source": [
    "random.choice(gestures) "
   ]
  },
  {
   "cell_type": "markdown",
   "metadata": {},
   "source": [
    "#### 7. Define a function that asks the player which is the gesture he or she wants to show: 'rock', 'paper' or 'scissors'.\n",
    "The player should only be allowed to choose one of the 3 gesture options. If the player's choice is not rock, paper or scissors, keep asking until it is."
   ]
  },
  {
   "cell_type": "code",
   "execution_count": 9,
   "metadata": {},
   "outputs": [
    {
     "name": "stdout",
     "output_type": "stream",
     "text": [
      "Tell us which gesture you would like to play!tree\n",
      "\n",
      "You have chosen tree as your gesture!\n",
      "You have to choose between rock, paper, scissors!\n"
     ]
    }
   ],
   "source": [
    "#Definition fuction that asks for player's gesture (how can I avoid showing the input value?)\n",
    "player_input():\n",
    "    gestures = ['rock','paper','scissors']\n",
    "    gesture = \"Tell us which gesture you would like to play!\"\n",
    "\n",
    "    player_gesture = input(gesture)\n",
    "    print(\"\\nYou have chosen\", player_gesture, \"as your gesture!\") \n",
    "\n",
    "\n",
    "    #Make sure player chooses between rock, paper and scissors\n",
    "    if player_gesture in gestures:\n",
    "        print(\"Let's go!\")\n",
    "    else:\n",
    "        print(\"You have to choose between rock, paper, scissors!\")"
   ]
  },
  {
   "cell_type": "markdown",
   "metadata": {},
   "source": [
    "#### 8. Define a function that checks who won a round. \n",
    "The function should return 0 if there is a tie, 1 if the computer wins and 2 if the player wins."
   ]
  },
  {
   "cell_type": "code",
   "execution_count": null,
   "metadata": {},
   "outputs": [],
   "source": [
    "ties = []\n",
    "\n",
    "#setting up a function that checked, who won\n",
    "def winner():\n",
    "    cpu_score = 0\n",
    "    player_score = 0\n",
    "\n",
    "    if random.choice(gestures)== rock and player_gesture == rock:\n",
    "        tie = tie + 1\n",
    "    elif random.choice(gestures)== rock and player_gesture == paper:\n",
    "        player_score = player_score + 1\n",
    "        rounds_to_win = rounds_to_win + 1\n",
    "    elif random.choice(gestures)== rock and player_gesture == scissors:\n",
    "        cpu_score = cpu_score +1 \n",
    "        rounds_to_win = rounds_to_win + 1\n",
    "    elif random.choice(gestures)== paper and player_gesture == paper:\n",
    "        tie = tie + 1\n",
    "        rounds_to_win = rounds_to_win + 1 \n",
    "    elif random.choice(gestures)== paper and player_gesture == rock:       \n",
    "        cpu_score = cpu_score + 1\n",
    "        rounds_to_win = rounds_to_win + 1\n",
    "    elif random.choice(gestures)== paper and player_gesture == scissors:\n",
    "        player_score = player_score + 1\n",
    "        rounds_to_win = rounds_to_win + 1\n",
    "    elif random.choice(gestures)== scissors and player_gesture == scissors:\n",
    "        tie = tie + 1\n",
    "        rounds_to_win = rounds_to_win + 1\n",
    "    elif random.choice(gestures)== scissors and player_gesture == rock:\n",
    "        player_score = player_score + 1\n",
    "        rounds_to_win = rounds_to_win + 1\n",
    "    elif random.choice(gestures)== scissors and player_gesture == paper:\n",
    "        cpu_score = cpu_score + 1 \n",
    "        rounds_to_win = rounds_to_win + 1\n",
    "    print(cpu_score)\n",
    "    print(player_score)"
   ]
  },
  {
   "cell_type": "markdown",
   "metadata": {},
   "source": [
    "#### 9. Define a function that prints the choice of the computer, the choice of the player and a message that announces who won the current round. \n",
    "You should also use this function to update the variables that count the number of rounds that the computer and the player have won. The score of the winner increases by one point. If there is a tie, the score does not increase."
   ]
  },
  {
   "cell_type": "code",
   "execution_count": 10,
   "metadata": {},
   "outputs": [],
   "source": [
    "#Definition of function, that print the choice of the computer and the choice of the player\n",
    "def choices():\n",
    "    computer_gesture = random.choice(gestures)\n",
    "    print(\"The computer has chosen\", computer_gesture, \".\")\n",
    "    print(\"The player has chosen\", player_gesture, \".\")\n",
    "    \n",
    "    #Call function winner\n",
    "    winner()\n",
    "    \n",
    "  \n",
    "\n",
    "    \n",
    "    \n"
   ]
  },
  {
   "cell_type": "markdown",
   "metadata": {},
   "source": [
    "#### 10. Now it's time to code the execution of the game using the functions and variables you defined above. \n",
    "\n",
    "First, create a loop structure that repeats while no player reaches the minimum score necessary to win and the number of rounds is less than the maximum number of rounds to play in a game.  \n",
    "\n",
    "Inside the loop, use the functions and variables above to create the execution of a round: ask for the player's choice, generate the random choice of the computer, show the round results, update the scores, etc. "
   ]
  },
  {
   "cell_type": "code",
   "execution_count": 15,
   "metadata": {},
   "outputs": [
    {
     "ename": "IndentationError",
     "evalue": "unindent does not match any outer indentation level (<tokenize>, line 16)",
     "output_type": "error",
     "traceback": [
      "\u001b[0;36m  File \u001b[0;32m\"<tokenize>\"\u001b[0;36m, line \u001b[0;32m16\u001b[0m\n\u001b[0;31m    if rounds in n_rounds:\u001b[0m\n\u001b[0m    ^\u001b[0m\n\u001b[0;31mIndentationError\u001b[0m\u001b[0;31m:\u001b[0m unindent does not match any outer indentation level\n"
     ]
    }
   ],
   "source": [
    "#Variables\n",
    "gestures = ['rock','paper','scissors']\n",
    "n_rounds = [] \n",
    "rounds_to_win = 0\n",
    "cpu_score = 0\n",
    "player_score = 0\n",
    "\n",
    "#Ask player how many rounds he wants to play\n",
    "rounds = input(\"How many rounds to you want to play?\")\n",
    "\n",
    "#Make sure player chooses odd number of rounds\n",
    "for x in (range(0, 15, 1)):\n",
    "   if x % 2 != 0:        \n",
    "      n_rounds.append(x)\n",
    "        \n",
    "if rounds in n_rounds:\n",
    "    print(\"Let's go!\")\n",
    "else:\n",
    "    print(\"You have to choose an odd number of rounds!\")\n",
    "\n",
    "\n",
    "while int(rounds_to_win) < int(rounds):\n",
    "    player_input()\n",
    "    choices()\n",
    "   \n",
    "    #Calculate winner of the round\n",
    "    if  cpu_score < player_score:\n",
    "        print(\"The player won!\")\n",
    "    elif cpu_score < player_score:\n",
    "        print(\"The computer won!\")\n",
    "    print(\"You have played\", rounds_to_win)\n"
   ]
  },
  {
   "cell_type": "markdown",
   "metadata": {},
   "source": [
    "#### 11. Print the winner of the game based on who won more rounds.\n",
    "Remember that the game might be tied. "
   ]
  },
  {
   "cell_type": "code",
   "execution_count": 17,
   "metadata": {},
   "outputs": [],
   "source": [
    "if int(rounds_to_win) == int(rounds):\n",
    "    if cpu_score < player_score:\n",
    "        print(\"Congratulations, you won!\")\n",
    "    elif cpu_score > player_score:\n",
    "        print(\"The computer won!\")\n",
    "    else:\n",
    "        print(\"It is a tie!\")\n",
    "    \n",
    "    "
   ]
  },
  {
   "cell_type": "markdown",
   "metadata": {},
   "source": [
    "# Bonus: Rock, Paper, Scissors, Lizard & Spock\n",
    "![](images/rpsls.jpg)\n",
    "\n",
    "In this challenge, you need to improve the previous game by adding two new options. To know more about the rules of the improved version of rock, paper, scissors, check this [link](http://www.samkass.com/theories/RPSSL.html). \n",
    "\n",
    "In addition, you will also need to improve how the game interacts with the player: the number of rounds to play, which must be an odd number, will be requested to the user until a valid number is entered. Define a new function to make that request.\n",
    "\n",
    "**Hint**: Try to reuse the code that you already coded in the previous challenge. If your code is efficient, this bonus will only consist of simple modifications to the original game."
   ]
  },
  {
   "cell_type": "code",
   "execution_count": 18,
   "metadata": {},
   "outputs": [
    {
     "name": "stdout",
     "output_type": "stream",
     "text": [
      "Didn't have time for this one anymore :(\n"
     ]
    }
   ],
   "source": [
    "print(\"Didn't have time for this one anymore :(\")"
   ]
  },
  {
   "cell_type": "code",
   "execution_count": null,
   "metadata": {},
   "outputs": [],
   "source": []
  }
 ],
 "metadata": {
  "kernelspec": {
   "display_name": "Python 3",
   "language": "python",
   "name": "python3"
  }
 },
 "nbformat": 4,
 "nbformat_minor": 2
}
