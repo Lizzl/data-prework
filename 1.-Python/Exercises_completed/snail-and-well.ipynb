{
 "cells": [
  {
   "cell_type": "markdown",
   "metadata": {},
   "source": [
    "<img src=\"https://bit.ly/2VnXWr2\" width=\"100\" align=\"left\">"
   ]
  },
  {
   "cell_type": "markdown",
   "metadata": {},
   "source": [
    "# The Snail and the Well\n",
    "\n",
    "A snail falls at the bottom of a 125 cm well. Each day the snail rises 30 cm. But at night, while sleeping, slides 20 cm because the walls are wet. How many days does it take for the snail to escape the well?\n",
    "\n",
    "**Hint**: The snail gets out of the well when it surpasses the 125cm of height.\n",
    "\n",
    "## Tools\n",
    "\n",
    "1. Loop: **while**\n",
    "2. Conditional statements: **if-else**\n",
    "3. Function: **print()**\n",
    "\n",
    "## Tasks\n",
    "\n",
    "#### 1. Assign the challenge data to variables with representative names: `well_height`, `daily_distance`, `nightly_distance` and `snail_position`."
   ]
  },
  {
   "cell_type": "code",
   "execution_count": 3,
   "metadata": {},
   "outputs": [],
   "source": [
    "well_height = 125 \n",
    "daily_distance = 30\n",
    "nightly_distance = 20\n",
    "snail_position = 0"
   ]
  },
  {
   "cell_type": "markdown",
   "metadata": {},
   "source": [
    "#### 2. Create a variable `days` to keep count of the days that pass until the snail escapes the well. "
   ]
  },
  {
   "cell_type": "code",
   "execution_count": 4,
   "metadata": {},
   "outputs": [],
   "source": [
    "days = 0 "
   ]
  },
  {
   "cell_type": "markdown",
   "metadata": {},
   "source": [
    "#### 3. Find the solution to the challenge using the variables defined above. "
   ]
  },
  {
   "cell_type": "code",
   "execution_count": 6,
   "metadata": {},
   "outputs": [
    {
     "name": "stdout",
     "output_type": "stream",
     "text": [
      "12.5\n"
     ]
    }
   ],
   "source": [
    "snail_position = daily_distance - nightly_distance\n",
    "days= well_height / snail_position\n",
    "\n",
    "print(days)"
   ]
  },
  {
   "cell_type": "markdown",
   "metadata": {},
   "source": [
    "#### 4. Print the solution."
   ]
  },
  {
   "cell_type": "code",
   "execution_count": 7,
   "metadata": {},
   "outputs": [
    {
     "name": "stdout",
     "output_type": "stream",
     "text": [
      "The snail needs 12.5 days to escape the well.\n"
     ]
    }
   ],
   "source": [
    "print(\"The snail needs\", str(days),\"days to escape the well.\")"
   ]
  },
  {
   "cell_type": "markdown",
   "metadata": {},
   "source": [
    "## Bonus\n",
    "The distance traveled by the snail each day is now defined by a list.\n",
    "```\n",
    "advance_cm = [30, 21, 33, 77, 44, 45, 23, 45, 12, 34, 55]\n",
    "```\n",
    "On the first day, the snail rises 30cm but during the night it slides 20cm. On the second day, the snail rises 21cm but during the night it slides 20cm, and so on. \n",
    "\n",
    "#### 1. How many days does it take for the snail to escape the well?\n",
    "Follow the same guidelines as in the previous challenge.\n",
    "\n",
    "advance_cm = [30, 21, 33, 77, 44, 45, 23, 45, 12, 34, 55]**Hint**: Remember that the snail gets out of the well when it surpasses the 125cm of height."
   ]
  },
  {
   "cell_type": "code",
   "execution_count": 8,
   "metadata": {},
   "outputs": [
    {
     "name": "stdout",
     "output_type": "stream",
     "text": [
      "[10, 1, 13, 57, 24, 25, 3, 25, -8, 14, 35]\n",
      "[10, 11, 24, 81, 105]\n",
      "The snail needs a bit more than 5 days to escape the well.\n"
     ]
    }
   ],
   "source": [
    "#Variables\n",
    "advance_cm = [30, 21, 33, 77, 44, 45, 23, 45, 12, 34, 55]\n",
    "s_position = 0\n",
    "well_height = 125 \n",
    "nightly_distance = 20\n",
    "distance_total = 0\n",
    "advance_snail = []\n",
    "advance_accum = []\n",
    " \n",
    "#Calculate the daily advancement of the snail\n",
    "for a in advance_cm :\n",
    "    distance_total = a - 20\n",
    "    advance_snail.append(distance_total)\n",
    "print(advance_snail)    \n",
    "\n",
    "#Calculate days \n",
    "active = True\n",
    "while active:\n",
    "    for i in advance_snail:\n",
    "        s_position += i \n",
    "    \n",
    "        if s_position >= 125:\n",
    "            active = False\n",
    "        else:\n",
    "            advance_accum.append(s_position)\n",
    "                 \n",
    "print(advance_accum)  \n",
    "\n",
    "#Print the days needed \n",
    "days_needed = len(advance_accum)\n",
    "\n",
    "print(\"The snail needs a bit more than\", str(days_needed),\"days to escape the well.\")\n",
    "\n",
    "#how can I find the exact time for the snake, which in this case must be around 5,75 days"
   ]
  },
  {
   "cell_type": "markdown",
   "metadata": {},
   "source": [
    "#### 2. What is its maximum displacement in one day? And its minimum? Calculate the displacement using only the travel distance of the days used to get out of the well. \n",
    "**Hint**: Remember that displacement means the total distance risen taking into account that the snail slides at night.  "
   ]
  },
  {
   "cell_type": "code",
   "execution_count": 9,
   "metadata": {},
   "outputs": [
    {
     "name": "stdout",
     "output_type": "stream",
     "text": [
      "[10, 1, 13, 57, 24]\n",
      "The maximum displacement of the snake in one day is 57 cm.\n",
      "The minimum displacement of the snake in one day is 1 cm.\n"
     ]
    }
   ],
   "source": [
    "#Calculate maximum and minimum displacement\n",
    "travel_distance = advance_snail[:5]\n",
    "print(travel_distance)\n",
    "\n",
    "max_travel = max(travel_distance)\n",
    "min_travel = min(travel_distance)\n",
    "\n",
    "print(\"The maximum displacement of the snake in one day is\", str(max_travel) ,\"cm.\")\n",
    "print(\"The minimum displacement of the snake in one day is\", str(min_travel) ,\"cm.\")"
   ]
  },
  {
   "cell_type": "markdown",
   "metadata": {},
   "source": [
    "#### 3. What is its average progress? Take into account the snail slides at night."
   ]
  },
  {
   "cell_type": "code",
   "execution_count": 10,
   "metadata": {},
   "outputs": [
    {
     "name": "stdout",
     "output_type": "stream",
     "text": [
      "The average progress of the snail is 21.0 cm.\n"
     ]
    }
   ],
   "source": [
    "average_progress = sum(travel_distance)/len(travel_distance)\n",
    "\n",
    "print(\"The average progress of the snail is\", str(average_progress), \"cm.\")"
   ]
  },
  {
   "cell_type": "markdown",
   "metadata": {},
   "source": [
    "#### 4. What is the standard deviation of its displacement? Take into account the snail slides at night."
   ]
  },
  {
   "cell_type": "code",
   "execution_count": 11,
   "metadata": {},
   "outputs": [
    {
     "name": "stdout",
     "output_type": "stream",
     "text": [
      "The standard deviation of the snail's displacement is 19.44222209522358\n"
     ]
    }
   ],
   "source": [
    "import statistics as st\n",
    "\n",
    "#Calculate standard deviation of displacement\n",
    "mean = int(sum(travel_distance)/len(travel_distance))\n",
    "n = int(len(travel_distance))\n",
    "stdev = st.pstdev(travel_distance) \n",
    "\n",
    "print(\"The standard deviation of the snail's displacement is\", str(stdev))\n",
    "\n"
   ]
  }
 ],
 "metadata": {
  "kernelspec": {
   "display_name": "Python 3",
   "language": "python",
   "name": "python3"
  },
  "language_info": {
   "codemirror_mode": {
    "name": "ipython",
    "version": 3
   },
   "file_extension": ".py",
   "mimetype": "text/x-python",
   "name": "python",
   "nbconvert_exporter": "python",
   "pygments_lexer": "ipython3",
   "version": "3.8.5"
  }
 },
 "nbformat": 4,
 "nbformat_minor": 2
}
