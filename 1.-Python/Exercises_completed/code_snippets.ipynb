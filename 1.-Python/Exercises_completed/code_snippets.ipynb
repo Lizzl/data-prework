{
 "cells": [
  {
   "cell_type": "code",
   "execution_count": 1,
   "metadata": {},
   "outputs": [
    {
     "ename": "SyntaxError",
     "evalue": "invalid syntax (<ipython-input-1-d856a09508d7>, line 3)",
     "output_type": "error",
     "traceback": [
      "\u001b[0;36m  File \u001b[0;32m\"<ipython-input-1-d856a09508d7>\"\u001b[0;36m, line \u001b[0;32m3\u001b[0m\n\u001b[0;31m    Hello World\u001b[0m\n\u001b[0m          ^\u001b[0m\n\u001b[0;31mSyntaxError\u001b[0m\u001b[0;31m:\u001b[0m invalid syntax\n"
     ]
    }
   ],
   "source": [
    ">>> print(\"Hello World\")\n",
    "\n",
    "Hello World\n",
    "\n",
    ">>> prnt(\"Hello World\")\n",
    "\n"
   ]
  },
  {
   "cell_type": "code",
   "execution_count": 4,
   "metadata": {},
   "outputs": [
    {
     "data": {
      "text/plain": [
       "4096"
      ]
     },
     "execution_count": 4,
     "metadata": {},
     "output_type": "execute_result"
    }
   ],
   "source": [
    "# Addition\n",
    "6 + 4\n",
    "\n",
    "#10\n",
    "\n",
    "# Subtraction\n",
    "100 - 80\n",
    "\n",
    "#20\n",
    "\n",
    "# Multiplication\n",
    "9 * 8\n",
    "\n",
    "#72\n",
    "\n",
    "# Division\n",
    "200 / 24\n",
    "\n",
    "#8.333333333333334\n",
    "\n",
    "# Exponents\n",
    "8**4\n",
    "\n",
    "#4096\n"
   ]
  },
  {
   "cell_type": "code",
   "execution_count": 6,
   "metadata": {},
   "outputs": [
    {
     "name": "stdout",
     "output_type": "stream",
     "text": [
      "hello\n"
     ]
    }
   ],
   "source": [
    "\"\"\"\n",
    "These\n",
    "are\n",
    "multi-line\n",
    "comments\n",
    "\"\"\"\n",
    "print(\"hello\")\n"
   ]
  },
  {
   "cell_type": "code",
   "execution_count": 8,
   "metadata": {},
   "outputs": [
    {
     "data": {
      "text/plain": [
       "float"
      ]
     },
     "execution_count": 8,
     "metadata": {},
     "output_type": "execute_result"
    }
   ],
   "source": [
    "type(\"I ate a banana\")\n",
    "\n",
    "\n",
    "\n",
    "type(123)\n",
    "\n",
    "\n",
    "\n",
    "\n",
    "type(98.6)\n",
    "\n",
    "\n"
   ]
  },
  {
   "cell_type": "code",
   "execution_count": 10,
   "metadata": {},
   "outputs": [
    {
     "name": "stdout",
     "output_type": "stream",
     "text": [
      "Hello everyone!\n",
      "Hello Hello Hello Hello Hello Hello Hello Hello \n"
     ]
    },
    {
     "data": {
      "text/plain": [
       "'586'"
      ]
     },
     "execution_count": 10,
     "metadata": {},
     "output_type": "execute_result"
    }
   ],
   "source": [
    "print(\"Hello \" + \"everyone!\")\n",
    "print(\"Hello \" * 8)\n",
    "str(586)\n",
    " "
   ]
  },
  {
   "cell_type": "code",
   "execution_count": 11,
   "metadata": {},
   "outputs": [
    {
     "data": {
      "text/plain": [
       "42"
      ]
     },
     "execution_count": 11,
     "metadata": {},
     "output_type": "execute_result"
    }
   ],
   "source": [
    "float(137)\n",
    "int(596.89)\n",
    "int(\"42\")\n",
    "float(\"42.97\")\n",
    "int(float(\"42.97\"))"
   ]
  },
  {
   "cell_type": "code",
   "execution_count": 12,
   "metadata": {},
   "outputs": [
    {
     "name": "stdout",
     "output_type": "stream",
     "text": [
      "9\n"
     ]
    }
   ],
   "source": [
    "x = 4\n",
    "y = 5\n",
    "x + y\n",
    "\n",
    "z = x + y\n",
    "print(z)"
   ]
  },
  {
   "cell_type": "code",
   "execution_count": 14,
   "metadata": {},
   "outputs": [
    {
     "name": "stdout",
     "output_type": "stream",
     "text": [
      "Total number of animals: 75\n",
      "Total shelter square feet: 750\n",
      "Square feet per animal: 10.0\n"
     ]
    }
   ],
   "source": [
    "dogs = 40\n",
    "cats = 25\n",
    "rabbits = 10\n",
    " \n",
    "shelter_length = 30\n",
    "shelter_width = 25\n",
    " \n",
    "total_animals = dogs + cats + rabbits\n",
    "sqft = shelter_length * shelter_width\n",
    " \n",
    "print(\"Total number of animals:\", total_animals)\n",
    " \n",
    "#Total number of animals: 75\n",
    " \n",
    "print(\"Total shelter square feet:\", sqft)\n",
    " \n",
    "#Total shelter square feet: 750\n",
    " \n",
    "print(\"Square feet per animal:\", sqft/total_animals)\n",
    " \n",
    "#Square feet per animal: 10.0"
   ]
  },
  {
   "cell_type": "code",
   "execution_count": 16,
   "metadata": {},
   "outputs": [
    {
     "name": "stdout",
     "output_type": "stream",
     "text": [
      "Enter your first name: tony\n",
      "Hello, tony\n"
     ]
    }
   ],
   "source": [
    "first_name = input(\"Enter your first name: \")\n",
    "\n",
    "\n",
    "print(\"Hello,\", first_name)\n",
    "\n",
    "\n"
   ]
  },
  {
   "cell_type": "code",
   "execution_count": 17,
   "metadata": {},
   "outputs": [
    {
     "data": {
      "text/plain": [
       "10"
      ]
     },
     "execution_count": 17,
     "metadata": {},
     "output_type": "execute_result"
    }
   ],
   "source": [
    "len(\"automobile\")\n"
   ]
  },
  {
   "cell_type": "code",
   "execution_count": 20,
   "metadata": {},
   "outputs": [
    {
     "name": "stdout",
     "output_type": "stream",
     "text": [
      "['The', 'man', 'in', 'the', 'blue', 'suit', 'jacket']\n"
     ]
    }
   ],
   "source": [
    "lst = ['The', 'man', 'in', 'the', 'blue', 'suit']\n",
    "lst[0]\n",
    "lst[-1]\n",
    "lst[2:4]\n",
    "\n",
    "lst.append('jacket')\n",
    "print(lst)"
   ]
  },
  {
   "cell_type": "code",
   "execution_count": 21,
   "metadata": {},
   "outputs": [
    {
     "data": {
      "text/plain": [
       "'Panama'"
      ]
     },
     "execution_count": 21,
     "metadata": {},
     "output_type": "execute_result"
    }
   ],
   "source": [
    "nested = [['A', 'man'], ['a', 'plan'], ['a', 'canal'], ['Panama', '!']]\n",
    " \n",
    "nested[-1][0]\n"
   ]
  },
  {
   "cell_type": "code",
   "execution_count": 24,
   "metadata": {},
   "outputs": [
    {
     "name": "stdout",
     "output_type": "stream",
     "text": [
      "2204\n",
      "275.5\n",
      "1\n",
      "896\n"
     ]
    }
   ],
   "source": [
    "num_list = [34, 12, 93, 783, 330, 896, 1, 55]\n",
    "print(sum(num_list))\n",
    "    \n",
    "# Mean\n",
    "print(sum(num_list)/len(num_list))\n",
    "\n",
    "# Minimum\n",
    "print(min(num_list))\n",
    "\n",
    "# Maximum\n",
    "print(max(num_list))\n",
    " "
   ]
  },
  {
   "cell_type": "code",
   "execution_count": 25,
   "metadata": {},
   "outputs": [
    {
     "name": "stdout",
     "output_type": "stream",
     "text": [
      "[34, 12, 93, 783, 330, 896, 1, 55]\n",
      "[896, 783, 330, 93, 55, 34, 12, 1]\n",
      "[1, 12, 34, 55, 93, 330, 783, 896]\n"
     ]
    }
   ],
   "source": [
    "# Sort Ascending\n",
    "num_list.sort\n",
    "print(num_list)\n",
    "\n",
    "# Sort Descending\n",
    "num_list.sort(reverse=True)\n",
    "print(num_list)\n",
    "\n",
    " \n",
    "# Reversing\n",
    "num_list.reverse()\n",
    "print(num_list)"
   ]
  },
  {
   "cell_type": "code",
   "execution_count": 26,
   "metadata": {},
   "outputs": [
    {
     "data": {
      "text/plain": [
       "dict_keys(['Brian', 'Amy', 'Darlene', 'Ralph', 'Jordan', 'Stephanie'])"
      ]
     },
     "execution_count": 26,
     "metadata": {},
     "output_type": "execute_result"
    }
   ],
   "source": [
    "#Dictionaries\n",
    "\n",
    "\n",
    "ages = {'Brian':23, 'Amy':22, 'Darlene':47, 'Ralph':32, 'Jordan':28, 'Stephanie':35}\n",
    "\n",
    "ages.keys()"
   ]
  },
  {
   "cell_type": "code",
   "execution_count": 27,
   "metadata": {},
   "outputs": [
    {
     "data": {
      "text/plain": [
       "dict_values([23, 22, 47, 32, 28, 35])"
      ]
     },
     "execution_count": 27,
     "metadata": {},
     "output_type": "execute_result"
    }
   ],
   "source": [
    "ages.values()"
   ]
  },
  {
   "cell_type": "code",
   "execution_count": 28,
   "metadata": {},
   "outputs": [
    {
     "name": "stdout",
     "output_type": "stream",
     "text": [
      "{'Brian': 23, 'Amy': 22, 'Darlene': 47, 'Ralph': 32, 'Jordan': 28, 'Stephanie': 35, 'Vanessa': 30}\n"
     ]
    }
   ],
   "source": [
    "ages['Vanessa'] = 30\n",
    "print(ages)"
   ]
  },
  {
   "cell_type": "code",
   "execution_count": 29,
   "metadata": {},
   "outputs": [
    {
     "ename": "AttributeError",
     "evalue": "'tuple' object has no attribute 'append'",
     "output_type": "error",
     "traceback": [
      "\u001b[0;31m---------------------------------------------------------------------------\u001b[0m",
      "\u001b[0;31mAttributeError\u001b[0m                            Traceback (most recent call last)",
      "\u001b[0;32m<ipython-input-29-0034f94677dd>\u001b[0m in \u001b[0;36m<module>\u001b[0;34m\u001b[0m\n\u001b[1;32m      2\u001b[0m \u001b[0;34m\u001b[0m\u001b[0m\n\u001b[1;32m      3\u001b[0m \u001b[0mb\u001b[0m \u001b[0;34m=\u001b[0m \u001b[0;34m(\u001b[0m\u001b[0;36m1\u001b[0m\u001b[0;34m,\u001b[0m\u001b[0;36m2\u001b[0m\u001b[0;34m,\u001b[0m\u001b[0;36m3\u001b[0m\u001b[0;34m,\u001b[0m\u001b[0;36m4\u001b[0m\u001b[0;34m,\u001b[0m\u001b[0;36m5\u001b[0m\u001b[0;34m)\u001b[0m\u001b[0;34m\u001b[0m\u001b[0;34m\u001b[0m\u001b[0m\n\u001b[0;32m----> 4\u001b[0;31m \u001b[0mb\u001b[0m\u001b[0;34m.\u001b[0m\u001b[0mappend\u001b[0m\u001b[0;34m(\u001b[0m\u001b[0;36m6\u001b[0m\u001b[0;34m)\u001b[0m\u001b[0;34m\u001b[0m\u001b[0;34m\u001b[0m\u001b[0m\n\u001b[0m",
      "\u001b[0;31mAttributeError\u001b[0m: 'tuple' object has no attribute 'append'"
     ]
    }
   ],
   "source": [
    "#Tuples\n",
    "\n",
    "b = (1,2,3,4,5)\n",
    "b.append(6)"
   ]
  },
  {
   "cell_type": "code",
   "execution_count": 30,
   "metadata": {},
   "outputs": [
    {
     "ename": "AttributeError",
     "evalue": "'tuple' object has no attribute 'remove'",
     "output_type": "error",
     "traceback": [
      "\u001b[0;31m---------------------------------------------------------------------------\u001b[0m",
      "\u001b[0;31mAttributeError\u001b[0m                            Traceback (most recent call last)",
      "\u001b[0;32m<ipython-input-30-61b25971164e>\u001b[0m in \u001b[0;36m<module>\u001b[0;34m\u001b[0m\n\u001b[1;32m      1\u001b[0m \u001b[0mb\u001b[0m \u001b[0;34m=\u001b[0m \u001b[0;34m(\u001b[0m\u001b[0;36m1\u001b[0m\u001b[0;34m,\u001b[0m\u001b[0;36m2\u001b[0m\u001b[0;34m,\u001b[0m\u001b[0;36m3\u001b[0m\u001b[0;34m,\u001b[0m\u001b[0;36m4\u001b[0m\u001b[0;34m,\u001b[0m\u001b[0;36m5\u001b[0m\u001b[0;34m)\u001b[0m\u001b[0;34m\u001b[0m\u001b[0;34m\u001b[0m\u001b[0m\n\u001b[0;32m----> 2\u001b[0;31m \u001b[0mb\u001b[0m\u001b[0;34m.\u001b[0m\u001b[0mremove\u001b[0m\u001b[0;34m(\u001b[0m\u001b[0;36m2\u001b[0m\u001b[0;34m)\u001b[0m\u001b[0;34m\u001b[0m\u001b[0;34m\u001b[0m\u001b[0m\n\u001b[0m",
      "\u001b[0;31mAttributeError\u001b[0m: 'tuple' object has no attribute 'remove'"
     ]
    }
   ],
   "source": [
    "b = (1,2,3,4,5)\n",
    "b.remove(2)"
   ]
  },
  {
   "cell_type": "code",
   "execution_count": 31,
   "metadata": {},
   "outputs": [
    {
     "ename": "AttributeError",
     "evalue": "'tuple' object has no attribute 'sort'",
     "output_type": "error",
     "traceback": [
      "\u001b[0;31m---------------------------------------------------------------------------\u001b[0m",
      "\u001b[0;31mAttributeError\u001b[0m                            Traceback (most recent call last)",
      "\u001b[0;32m<ipython-input-31-0c41ee6ef169>\u001b[0m in \u001b[0;36m<module>\u001b[0;34m\u001b[0m\n\u001b[1;32m      1\u001b[0m \u001b[0mb\u001b[0m \u001b[0;34m=\u001b[0m \u001b[0;34m(\u001b[0m\u001b[0;36m1\u001b[0m\u001b[0;34m,\u001b[0m\u001b[0;36m2\u001b[0m\u001b[0;34m,\u001b[0m\u001b[0;36m3\u001b[0m\u001b[0;34m,\u001b[0m\u001b[0;36m4\u001b[0m\u001b[0;34m,\u001b[0m\u001b[0;36m5\u001b[0m\u001b[0;34m)\u001b[0m\u001b[0;34m\u001b[0m\u001b[0;34m\u001b[0m\u001b[0m\n\u001b[0;32m----> 2\u001b[0;31m \u001b[0mb\u001b[0m\u001b[0;34m.\u001b[0m\u001b[0msort\u001b[0m\u001b[0;34m(\u001b[0m\u001b[0;34m)\u001b[0m\u001b[0;34m\u001b[0m\u001b[0;34m\u001b[0m\u001b[0m\n\u001b[0m",
      "\u001b[0;31mAttributeError\u001b[0m: 'tuple' object has no attribute 'sort'"
     ]
    }
   ],
   "source": [
    "b = (1,2,3,4,5)\n",
    "b.sort()"
   ]
  },
  {
   "cell_type": "code",
   "execution_count": 33,
   "metadata": {},
   "outputs": [
    {
     "name": "stdout",
     "output_type": "stream",
     "text": [
      "{1, 2, 3, 4, 5}\n"
     ]
    }
   ],
   "source": [
    "#Sets\n",
    "\n",
    "dupe_list = [1,2,2,3,3,3,4,4,4,4,5,5,5,5,5]\n",
    "uniques = set(dupe_list)\n",
    "\n",
    "print(uniques)"
   ]
  },
  {
   "cell_type": "code",
   "execution_count": 34,
   "metadata": {},
   "outputs": [
    {
     "name": "stdout",
     "output_type": "stream",
     "text": [
      "Happy variable is set to  True\n"
     ]
    }
   ],
   "source": [
    "#Control Flow: Conditional Logic and Loops\n",
    "\n",
    "happy = True\n",
    "print(\"Happy variable is set to \", happy)"
   ]
  },
  {
   "cell_type": "code",
   "execution_count": 35,
   "metadata": {},
   "outputs": [
    {
     "name": "stdout",
     "output_type": "stream",
     "text": [
      "True\n",
      "True\n",
      "True\n",
      "False\n",
      "True\n",
      "False\n"
     ]
    }
   ],
   "source": [
    "print(5 + 5 == 10)\n",
    "print('apple' != 'orange')\n",
    "print(100 > 75)\n",
    "print(93 < 80)\n",
    "print(3 in [1,2,3,4,5])\n",
    "print(3 not in [1,2,3,4,5])\n"
   ]
  },
  {
   "cell_type": "code",
   "execution_count": 36,
   "metadata": {},
   "outputs": [
    {
     "name": "stdout",
     "output_type": "stream",
     "text": [
      "True\n",
      "False\n",
      "True\n",
      "False\n"
     ]
    }
   ],
   "source": [
    "print((5 + 5 == 10) & ('apple' != 'orange'))\n",
    "print((100 > 75) & (93 < 80))\n",
    "print((100 > 75) | (93 < 80))\n",
    "print((93 < 80) | (3 not in [1,2,3,4,5]))"
   ]
  },
  {
   "cell_type": "code",
   "execution_count": 37,
   "metadata": {},
   "outputs": [
    {
     "name": "stdout",
     "output_type": "stream",
     "text": [
      "Number is exactly 10\n"
     ]
    }
   ],
   "source": [
    "number = 10\n",
    " \n",
    "if number < 10:\n",
    "    print(\"Number is less than 10\")\n",
    "elif number > 10:\n",
    "    print(\"Number is greater than 10\")\n",
    "elif number == 10:\n",
    "    print(\"Number is exactly 10\")\n",
    "else:\n",
    "    print(\"Number is probably not a number at all\")\n"
   ]
  },
  {
   "cell_type": "code",
   "execution_count": 39,
   "metadata": {},
   "outputs": [
    {
     "name": "stdout",
     "output_type": "stream",
     "text": [
      "Your total commute time is expected to be 50 minutes.\n"
     ]
    }
   ],
   "source": [
    "commute = 30\n",
    "rain = False\n",
    "traffic = True\n",
    " \n",
    "if (rain == True) | (traffic == True):\n",
    "    if (rain == True) & (traffic == True):\n",
    "        total_commute = commute + 15 + 20\n",
    "    elif (rain == True) & (traffic == False):\n",
    "        total_commute = commute + 15\n",
    "    elif (rain == False) & (traffic == True):\n",
    "        total_commute = commute + 20\n",
    "else:\n",
    "    total_commute = commute\n",
    "print(\"Your total commute time is expected to be\", total_commute, \"minutes.\")"
   ]
  },
  {
   "cell_type": "code",
   "execution_count": 40,
   "metadata": {},
   "outputs": [
    {
     "data": {
      "text/plain": [
       "10"
      ]
     },
     "execution_count": 40,
     "metadata": {},
     "output_type": "execute_result"
    }
   ],
   "source": [
    "len(range(5, 15))"
   ]
  },
  {
   "cell_type": "code",
   "execution_count": 41,
   "metadata": {},
   "outputs": [
    {
     "name": "stdout",
     "output_type": "stream",
     "text": [
      "5\n",
      "6\n",
      "7\n",
      "8\n",
      "9\n",
      "10\n",
      "11\n",
      "12\n",
      "13\n",
      "14\n"
     ]
    }
   ],
   "source": [
    "for i in range(5, 15):\n",
    "    print(i)"
   ]
  },
  {
   "cell_type": "code",
   "execution_count": 42,
   "metadata": {},
   "outputs": [
    {
     "name": "stdout",
     "output_type": "stream",
     "text": [
      "apple\n",
      "orange\n",
      "banana\n",
      "grapes\n",
      "pineapple\n"
     ]
    }
   ],
   "source": [
    "fruits = ['apple', 'orange', 'banana', 'grapes', 'pineapple']\n",
    " \n",
    "for fruit in fruits:\n",
    "    print(fruit)"
   ]
  },
  {
   "cell_type": "code",
   "execution_count": 43,
   "metadata": {},
   "outputs": [
    {
     "name": "stdout",
     "output_type": "stream",
     "text": [
      "Brian is 23 years old.\n",
      "Amy is 22 years old.\n",
      "Darlene is 47 years old.\n",
      "Ralph is 32 years old.\n",
      "Jordan is 28 years old.\n",
      "Stephanie is 35 years old.\n"
     ]
    }
   ],
   "source": [
    "ages = {'Brian':23, 'Amy':22, 'Darlene':47, 'Ralph':32, 'Jordan':28, 'Stephanie':35}\n",
    " \n",
    "for name, age in ages.items():\n",
    "    print(name, \"is\", age, \"years old.\")"
   ]
  },
  {
   "cell_type": "code",
   "execution_count": 44,
   "metadata": {},
   "outputs": [
    {
     "name": "stdout",
     "output_type": "stream",
     "text": [
      "Total is currently 34\n",
      "Total is currently 46\n",
      "Total is currently 139\n",
      "Total is currently 922\n",
      "Total is currently 1252\n",
      "Total is currently 2148\n",
      "Total is currently 2149\n",
      "Total is currently 2204\n"
     ]
    }
   ],
   "source": [
    "num_list = [34, 12, 93, 783, 330, 896, 1, 55]\n",
    " \n",
    "total = 0\n",
    " \n",
    "for i in num_list:\n",
    "    total += i\n",
    "    print(\"Total is currently\", total)\n"
   ]
  },
  {
   "cell_type": "code",
   "execution_count": 45,
   "metadata": {},
   "outputs": [
    {
     "name": "stdout",
     "output_type": "stream",
     "text": [
      "[1, 4, 9, 16, 25, 36, 49, 64, 81, 100]\n"
     ]
    }
   ],
   "source": [
    "new_list = []\n",
    " \n",
    "for i in range(1, 11):\n",
    "    square = i**2\n",
    "    new_list.append(square)\n",
    " \n",
    "print(new_list)"
   ]
  },
  {
   "cell_type": "code",
   "execution_count": 47,
   "metadata": {},
   "outputs": [
    {
     "name": "stdout",
     "output_type": "stream",
     "text": [
      "Cake is in the oven.\n",
      "Cake is not done yet.\n",
      "Cake is not done yet.\n",
      "Cake is not done yet.\n",
      "It's done. Let's eat cake!\n"
     ]
    }
   ],
   "source": [
    "total_time = 60\n",
    "minutes_elapsed = 0\n",
    "wait = 15\n",
    " \n",
    "print(\"Cake is in the oven.\")\n",
    "minutes_elapsed += wait\n",
    " \n",
    "while minutes_elapsed < total_time:\n",
    "    print(\"Cake is not done yet.\")\n",
    "    minutes_elapsed += wait\n",
    " \n",
    "print(\"It's done. Let's eat cake!\")"
   ]
  },
  {
   "cell_type": "code",
   "execution_count": 48,
   "metadata": {},
   "outputs": [
    {
     "data": {
      "text/plain": [
       "'/Users/akohn/Desktop/Data Analytics/Python Exercises'"
      ]
     },
     "execution_count": 48,
     "metadata": {},
     "output_type": "execute_result"
    }
   ],
   "source": [
    "#Working with Files in Python\n",
    "\n",
    "\n",
    "import os\n",
    "\n",
    "os.getcwd()\n"
   ]
  },
  {
   "cell_type": "code",
   "execution_count": 49,
   "metadata": {},
   "outputs": [
    {
     "data": {
      "text/plain": [
       "'C:/ironhack/module_0/python-beginner/data'"
      ]
     },
     "execution_count": 49,
     "metadata": {},
     "output_type": "execute_result"
    }
   ],
   "source": [
    "root = 'C:'\n",
    "level_1 = 'ironhack'\n",
    "level_2 = 'module_0'\n",
    "level_3 = 'python-beginner'\n",
    "level_4 = 'data'\n",
    " \n",
    "os.path.join(root, level_1, level_2, level_3, level_4)"
   ]
  },
  {
   "cell_type": "code",
   "execution_count": 50,
   "metadata": {},
   "outputs": [],
   "source": [
    "folder_name = 'test_ironhack_python'\n",
    " \n",
    "if os.path.exists(folder_name) == False:\n",
    "    os.makedirs(folder_name)"
   ]
  },
  {
   "cell_type": "code",
   "execution_count": 51,
   "metadata": {},
   "outputs": [],
   "source": [
    "with open(\"example.txt\", \"w\") as f:\n",
    "    f.write(\"Hello World! \\n\")\n",
    "    f.write(\"How are you? \\n\")\n",
    "    f.write(\"I'm fine.\")"
   ]
  },
  {
   "cell_type": "code",
   "execution_count": 52,
   "metadata": {},
   "outputs": [
    {
     "name": "stdout",
     "output_type": "stream",
     "text": [
      "Hello World! \n",
      "\n",
      "How are you? \n",
      "\n",
      "I'm fine.\n"
     ]
    }
   ],
   "source": [
    "with open(\"example.txt\", \"r\") as f:\n",
    "    lines = f.readlines()\n",
    "    for line in lines:\n",
    "        print(line)"
   ]
  },
  {
   "cell_type": "code",
   "execution_count": 57,
   "metadata": {},
   "outputs": [
    {
     "name": "stdout",
     "output_type": "stream",
     "text": [
      "[['gender', 'actual_weight', 'actual_height', 'reported_weight', 'reported_height'], ['M', '77', '182', '77', '180'], ['F', '58', '161', '51', '159'], ['F', '53', '161', '54', '158'], ['M', '68', '177', '70', '175'], ['F', '59', '157', '59', '155'], ['M', '76', '170', '76', '165'], ['M', '76', '167', '77', '165'], ['M', '69', '186', '73', '180'], ['M', '71', '178', '71', '175'], ['M', '65', '171', '64', '170'], ['M', '70', '175', '75', '174'], ['F', '166', '57', '56', '163'], ['F', '51', '161', '52', '158'], ['F', '64', '168', '64', '165'], ['F', '52', '163', '57', '160'], ['F', '65', '166', '66', '165'], ['M', '92', '187', '101', '185'], ['F', '62', '168', '62', '165'], ['M', '76', '197', '75', '200'], ['F', '61', '175', '61', '171'], ['M', '119', '180', '124', '178'], ['F', '61', '170', '61', '170'], ['M', '65', '175', '66', '173'], ['M', '66', '173', '70', '170'], ['F', '54', '171', '59', '168'], ['F', '50', '166', '50', '165'], ['F', '63', '169', '61', '168'], ['F', '58', '166', '60', '160'], ['F', '39', '157', '41', '153'], ['M', '101', '183', '100', '180'], ['F', '71', '166', '71', '165'], ['M', '75', '178', '73', '175'], ['M', '79', '173', '76', '173'], ['F', '52', '164', '52', '161'], ['F', '68', '169', '63', '170'], ['M', '64', '176', '65', '175'], ['F', '56', '166', '54', '165'], ['M', '69', '174', '69', '171'], ['M', '88', '178', '86', '175'], ['M', '65', '187', '67', '188'], ['F', '54', '164', '53', '160'], ['M', '80', '178', '80', '178'], ['F', '63', '163', '59', '159'], ['M', '78', '183', '80', '180'], ['M', '85', '179', '82', '175'], ['F', '54', '160', '55', '158'], ['F', '54', '174', '56', '173'], ['F', '75', '162', '75', '158'], ['M', '82', '182', '85', '183'], ['F', '56', '165', '57', '163'], ['M', '74', '169', '73', '170'], ['M', '102', '185', '107', '185'], ['M', '65', '176', '64', '172'], ['M', '73', '183', '74', '180'], ['M', '75', '172', '70', '169'], ['M', '57', '173', '58', '170'], ['M', '68', '165', '69', '165'], ['M', '71', '177', '71', '170'], ['M', '71', '180', '76', '175'], ['F', '78', '173', '75', '169'], ['M', '97', '189', '98', '185'], ['F', '60', '162', '59', '160'], ['F', '64', '165', '63', '163'], ['F', '64', '164', '62', '161'], ['F', '52', '158', '51', '155'], ['M', '80', '178', '76', '175'], ['F', '62', '175', '61', '171'], ['M', '66', '173', '66', '175'], ['F', '55', '165', '54', '163'], ['F', '56', '163', '57', '159'], ['F', '50', '166', '50', '161'], ['F', '50', '160', '55', '150'], ['F', '63', '160', '64', '158'], ['M', '69', '182', '70', '180'], ['M', '69', '183', '70', '183'], ['F', '61', '165', '60', '163'], ['M', '55', '168', '56', '170'], ['F', '53', '169', '52', '175'], ['F', '60', '167', '55', '163'], ['F', '56', '170', '56', '170'], ['M', '59', '182', '61', '183'], ['M', '62', '178', '66', '175'], ['F', '53', '165', '53', '165'], ['F', '57', '163', '59', '160'], ['F', '57', '162', '56', '160'], ['M', '70', '173', '68', '170'], ['F', '56', '161', '56', '161'], ['M', '84', '184', '86', '183'], ['M', '69', '180', '71', '180'], ['M', '88', '189', '87', '185'], ['F', '56', '165', '57', '160'], ['M', '103', '185', '101', '182'], ['F', '50', '169', '50', '165'], ['F', '52', '159', '52', '153'], ['F', '55', '164', '55', '163'], ['M', '63', '178', '63', '175'], ['F', '47', '163', '47', '160'], ['F', '45', '163', '45', '160'], ['F', '62', '175', '63', '173'], ['F', '53', '164', '51', '160'], ['F', '52', '152', '51', '150'], ['F', '57', '167', '55', '164'], ['F', '64', '166', '64', '165'], ['F', '59', '166', '55', '163'], ['M', '84', '183', '90', '183'], ['M', '79', '179', '79', '171'], ['F', '55', '174', '57', '171'], ['M', '67', '179', '67', '179'], ['F', '76', '167', '77', '165'], ['F', '62', '168', '62', '163'], ['M', '83', '184', '83', '181'], ['M', '96', '184', '94', '183'], ['M', '75', '169', '76', '165'], ['M', '65', '178', '66', '178'], ['M', '78', '178', '77', '175'], ['M', '69', '167', '73', '165'], ['F', '68', '178', '68', '175'], ['F', '55', '165', '55', '163'], ['F', '52', '169', '56', 'NA'], ['F', '45', '157', '45', '153'], ['F', '68', '171', '68', '169'], ['F', '44', '157', '44', '155'], ['F', '62', '166', '61', '163'], ['M', '87', '185', '89', '185'], ['F', '56', '160', '53', '158'], ['F', '50', '148', '47', '148'], ['M', '83', '177', '84', '175'], ['F', '53', '162', '53', '160'], ['F', '64', '172', '62', '168'], ['M', '90', '188', '91', '185'], ['M', '85', '191', '83', '188'], ['M', '66', '175', '68', '175'], ['F', '52', '163', '53', '160'], ['F', '53', '165', '55', '163'], ['F', '54', '176', '55', '176'], ['F', '64', '171', '66', '171'], ['F', '55', '160', '55', '155'], ['F', '55', '165', '55', '165'], ['F', '59', '157', '55', '158'], ['F', '70', '173', '67', '170'], ['M', '88', '184', '86', '183'], ['F', '57', '168', '58', '165'], ['F', '47', '162', '47', '160'], ['F', '47', '150', '45', '152'], ['F', '48', '163', '44', '160'], ['M', '54', '169', '58', '165'], ['M', '69', '172', '68', '174'], ['F', '57', '167', '56', '165'], ['F', '51', '163', '50', '160'], ['F', '54', '161', '54', '160'], ['F', '53', '162', '52', '158'], ['F', '59', '172', '58', '171'], ['M', '56', '163', '58', '161'], ['F', '59', '159', '59', '155'], ['F', '63', '170', '62', '168'], ['F', '66', '166', '66', '165'], ['M', '96', '191', '95', '188'], ['F', '53', '158', '50', '155'], ['M', '76', '169', '75', '165'], ['M', '61', '170', '61', '170'], ['M', '62', '168', '64', '168'], ['M', '71', '178', '68', '178'], ['M', '66', '170', '67', '165'], ['M', '81', '178', '82', '175'], ['M', '68', '174', '68', '173'], ['M', '80', '176', '78', '175'], ['F', '63', '165', '59', '160'], ['M', '70', '173', '70', '173'], ['F', '56', '162', '56', '160'], ['F', '60', '172', '55', '168'], ['F', '58', '169', '54', '166'], ['M', '76', '183', '75', '180'], ['F', '50', '158', '49', '155'], ['M', '88', '185', '93', '188'], ['M', '89', '173', '86', '173'], ['F', '59', '164', '59', '165'], ['F', '51', '156', '51', '158'], ['F', '62', '164', '61', '161'], ['M', '74', '175', '71', '175'], ['M', '83', '180', '80', '180'], ['M', '90', '181', '91', '178'], ['M', '79', '177', '81', '178']]\n"
     ]
    }
   ],
   "source": [
    "data = []\n",
    " \n",
    "with open(\"/Users/akohn/Desktop/weight_height.csv\", \"r\") as f:\n",
    "    lines = f.readlines()\n",
    "    for line in lines:\n",
    "        data.append(line.split()[0].split(\",\"))\n",
    "\n",
    "print(data)\n",
    "#does not display list like in the example\n",
    "\n"
   ]
  },
  {
   "cell_type": "code",
   "execution_count": 58,
   "metadata": {},
   "outputs": [
    {
     "name": "stdout",
     "output_type": "stream",
     "text": [
      "Avg male height: 178.0121951219512\n",
      "Avg female height 163.7\n"
     ]
    }
   ],
   "source": [
    "male_heights = []\n",
    "female_heights = []\n",
    " \n",
    "for person in data[1:]:\n",
    "    height = int(person[2])\n",
    "    if person[0] == 'M':\n",
    "        male_heights.append(height)\n",
    "    elif person[0] == 'F':\n",
    "        female_heights.append(height)\n",
    " \n",
    "avg_male_height = sum(male_heights)/len(male_heights)\n",
    "avg_female_height = sum(female_heights)/len(female_heights)\n",
    " \n",
    "print(\"Avg male height:\", avg_male_height)\n",
    "print(\"Avg female height\", avg_female_height)"
   ]
  },
  {
   "cell_type": "code",
   "execution_count": null,
   "metadata": {},
   "outputs": [],
   "source": []
  }
 ],
 "metadata": {
  "kernelspec": {
   "display_name": "Python 3",
   "language": "python",
   "name": "python3"
  },
  "language_info": {
   "codemirror_mode": {
    "name": "ipython",
    "version": 3
   },
   "file_extension": ".py",
   "mimetype": "text/x-python",
   "name": "python",
   "nbconvert_exporter": "python",
   "pygments_lexer": "ipython3",
   "version": "3.8.5"
  }
 },
 "nbformat": 4,
 "nbformat_minor": 4
}
